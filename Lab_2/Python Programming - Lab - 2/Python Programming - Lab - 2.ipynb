{
 "cells": [
  {
   "cell_type": "markdown",
   "metadata": {},
   "source": [
    "\n",
    "<a href='https://www.darshan.ac.in/'> <img src='https://www.darshan.ac.in/Content/media/DU_Logo.svg' width=\"250\" height=\"300\"/></a>\n",
    "<pre>\n",
    "<center><b><h1>Python Programming - 2301CS404</b></center>\n",
    "<center><b><h1>Lab - 2</b></center>    \n",
    "<pre>"
   ]
  },
  {
   "cell_type": "markdown",
   "metadata": {},
   "source": [
    "# if..else.."
   ]
  },
  {
   "cell_type": "markdown",
   "metadata": {},
   "source": [
    "### 01) WAP to check whether the given number is positive or negative."
   ]
  },
  {
   "cell_type": "code",
   "execution_count": 5,
   "metadata": {},
   "outputs": [
    {
     "name": "stdout",
     "output_type": "stream",
     "text": [
      "Enter A Number : \n"
     ]
    },
    {
     "name": "stdin",
     "output_type": "stream",
     "text": [
      "None 10\n"
     ]
    },
    {
     "name": "stdout",
     "output_type": "stream",
     "text": [
      "Number Is Positive\n"
     ]
    }
   ],
   "source": [
    "a=int(input((print(\"Enter A Number : \"))))\n",
    "if(a>0):\n",
    "    print(\"Number Is Positive\")\n",
    "else:\n",
    "    print(\"Number Is Negative\")"
   ]
  },
  {
   "cell_type": "markdown",
   "metadata": {},
   "source": [
    "### 02) WAP to check whether the given number is odd or even."
   ]
  },
  {
   "cell_type": "code",
   "execution_count": 7,
   "metadata": {},
   "outputs": [
    {
     "name": "stdout",
     "output_type": "stream",
     "text": [
      "Enter A Number : \n"
     ]
    },
    {
     "name": "stdin",
     "output_type": "stream",
     "text": [
      "None 10\n"
     ]
    },
    {
     "name": "stdout",
     "output_type": "stream",
     "text": [
      "Number Is Even\n"
     ]
    }
   ],
   "source": [
    "a=int(input((print(\"Enter A Number : \"))))\n",
    "if(a%2==0):\n",
    "    print(\"Number Is Even\")\n",
    "else:\n",
    "    print(\"Number Is Odd\")"
   ]
  },
  {
   "cell_type": "markdown",
   "metadata": {},
   "source": [
    "### 03) WAP to find out largest number from given two numbers using simple if and ternary operator."
   ]
  },
  {
   "cell_type": "code",
   "execution_count": 19,
   "metadata": {},
   "outputs": [
    {
     "name": "stdout",
     "output_type": "stream",
     "text": [
      "Enter A First Number : \n"
     ]
    },
    {
     "name": "stdin",
     "output_type": "stream",
     "text": [
      "None 10\n"
     ]
    },
    {
     "name": "stdout",
     "output_type": "stream",
     "text": [
      "Enter A Second Number : \n"
     ]
    },
    {
     "name": "stdin",
     "output_type": "stream",
     "text": [
      "None 5\n"
     ]
    },
    {
     "name": "stdout",
     "output_type": "stream",
     "text": [
      "First Number Is Big.\n"
     ]
    }
   ],
   "source": [
    "a=int(input((print(\"Enter A First Number : \"))))\n",
    "b=int(input((print(\"Enter A Second Number : \"))))\n",
    "# if(a>b):\n",
    "#     print(\"First Number Is Big.\")\n",
    "# else:\n",
    "#     print(\"Second Number Is Big.\")\n",
    "\n",
    "print(\"First Number Is Big.\") if(a>b) else print(\"Second Number Is Big.\")"
   ]
  },
  {
   "cell_type": "markdown",
   "metadata": {},
   "source": [
    "### 04) WAP to find out largest number from given three numbers."
   ]
  },
  {
   "cell_type": "code",
   "execution_count": 28,
   "metadata": {},
   "outputs": [
    {
     "name": "stdout",
     "output_type": "stream",
     "text": [
      "Enter A First Number : \n"
     ]
    },
    {
     "name": "stdin",
     "output_type": "stream",
     "text": [
      "None 10\n"
     ]
    },
    {
     "name": "stdout",
     "output_type": "stream",
     "text": [
      "Enter A Second Number : \n"
     ]
    },
    {
     "name": "stdin",
     "output_type": "stream",
     "text": [
      "None 20\n"
     ]
    },
    {
     "name": "stdout",
     "output_type": "stream",
     "text": [
      "Enter A Third Number : \n"
     ]
    },
    {
     "name": "stdin",
     "output_type": "stream",
     "text": [
      "None 230\n"
     ]
    },
    {
     "name": "stdout",
     "output_type": "stream",
     "text": [
      "Third Number Is Big.\n"
     ]
    }
   ],
   "source": [
    "a=int(input((print(\"Enter A First Number : \"))))\n",
    "b=int(input((print(\"Enter A Second Number : \"))))\n",
    "c=int(input((print(\"Enter A Third Number : \"))))\n",
    "\n",
    "if(a>b):\n",
    "    if(a>c):\n",
    "        print(\"First Number Is Big.\")\n",
    "    else:\n",
    "        print(\"Third Number Is Big.\")\n",
    "elif(b>c):\n",
    "    print(\"Second Number Is Big.\")\n",
    "else:\n",
    "    print(\"Third Number Is Big.\")"
   ]
  },
  {
   "cell_type": "markdown",
   "metadata": {},
   "source": [
    "### 05) WAP to check whether the given year is leap year or not.\n",
    "[If a year can be divisible by 4 but not divisible by 100 then it is leap year but if it is divisible by 400 then it is leap year]"
   ]
  },
  {
   "cell_type": "code",
   "execution_count": 32,
   "metadata": {},
   "outputs": [
    {
     "name": "stdout",
     "output_type": "stream",
     "text": [
      "Enter A Year : \n"
     ]
    },
    {
     "name": "stdin",
     "output_type": "stream",
     "text": [
      "None 2024\n"
     ]
    },
    {
     "name": "stdout",
     "output_type": "stream",
     "text": [
      "Leap Year\n"
     ]
    }
   ],
   "source": [
    "a=int(input((print(\"Enter A Year : \"))))\n",
    "if(a%4==0):\n",
    "    if(a%100==0):\n",
    "        print(\"Not Leap Year\")\n",
    "    else:\n",
    "        print(\"Leap Year\")\n",
    "elif(a%400==0):\n",
    "    print(\"Leap Year\")\n",
    "else:\n",
    "    print(\"Not Leap Year\")"
   ]
  },
  {
   "cell_type": "markdown",
   "metadata": {},
   "source": [
    "### 06) WAP in python to display the name of the day according to the number given by the user."
   ]
  },
  {
   "cell_type": "code",
   "execution_count": 36,
   "metadata": {},
   "outputs": [
    {
     "name": "stdout",
     "output_type": "stream",
     "text": [
      "Enter A Number Between 1-7 : \n"
     ]
    },
    {
     "name": "stdin",
     "output_type": "stream",
     "text": [
      "None 45\n"
     ]
    },
    {
     "name": "stdout",
     "output_type": "stream",
     "text": [
      "Enter a Valid Day\n"
     ]
    }
   ],
   "source": [
    "a=int(input((print(\"Enter A Number Between 1-7 : \"))))\n",
    "\n",
    "match(a):\n",
    "    case 1:\n",
    "        print(\"Sunday\")\n",
    "    case 2:\n",
    "        print(\"Monday\")\n",
    "    case 3:\n",
    "        print(\"Tuesday\")\n",
    "    case 4:\n",
    "        print(\"wednesday\")\n",
    "    case 5:\n",
    "        print(\"Thursday\")\n",
    "    case 6:\n",
    "        print(\"Friday\")\n",
    "    case 7:\n",
    "        print(\"Saturday\")\n",
    "    case _:\n",
    "        print(\"Enter a Valid Day\")"
   ]
  },
  {
   "cell_type": "markdown",
   "metadata": {},
   "source": [
    "### 07) WAP to implement simple calculator which performs (add,sub,mul,div) of two no. based on user input."
   ]
  },
  {
   "cell_type": "code",
   "execution_count": 42,
   "metadata": {},
   "outputs": [
    {
     "name": "stdout",
     "output_type": "stream",
     "text": [
      "Enter A First Number : \n"
     ]
    },
    {
     "name": "stdin",
     "output_type": "stream",
     "text": [
      "None 10\n"
     ]
    },
    {
     "name": "stdout",
     "output_type": "stream",
     "text": [
      "Enter A Second Number : \n"
     ]
    },
    {
     "name": "stdin",
     "output_type": "stream",
     "text": [
      "None 20\n"
     ]
    },
    {
     "name": "stdout",
     "output_type": "stream",
     "text": [
      "Enter A Operator Number : \n"
     ]
    },
    {
     "name": "stdin",
     "output_type": "stream",
     "text": [
      "None +\n"
     ]
    },
    {
     "name": "stdout",
     "output_type": "stream",
     "text": [
      "10 + 20 = 30\n"
     ]
    }
   ],
   "source": [
    "a=int(input((print(\"Enter A First Number : \"))))\n",
    "b=int(input((print(\"Enter A Second Number : \"))))\n",
    "c=(input((print(\"Enter A Operator Number : \"))))\n",
    "\n",
    "match(c):\n",
    "    case '+':\n",
    "        print(a,\"+\",b,\"=\",a+b)\n",
    "    case '-':\n",
    "        print(a,\"-\",b,\"=\",a-b)\n",
    "    case '*':\n",
    "        print(a,\"*\",b,\"=\",a*b)\n",
    "    case '+':\n",
    "        print(a,\"/\",b,\"=\",a/b)\n",
    "    case _:\n",
    "        print(\"Enter Proper Operator\")"
   ]
  },
  {
   "cell_type": "markdown",
   "metadata": {},
   "source": [
    "### 08) WAP to read marks of five subjects. Calculate percentage and print class accordingly. \n",
    "Fail below 35 </br>\n",
    "Pass Class between 35 to 45 </br>\n",
    "Second Class</br>\n",
    "between 45 to 60</br>\n",
    "First Class between 60 to 70</br> \n",
    "Distinction if more than 70"
   ]
  },
  {
   "cell_type": "code",
   "execution_count": 60,
   "metadata": {},
   "outputs": [
    {
     "name": "stdout",
     "output_type": "stream",
     "text": [
      "Enter A First Number : \n"
     ]
    },
    {
     "name": "stdin",
     "output_type": "stream",
     "text": [
      "None 10\n"
     ]
    },
    {
     "name": "stdout",
     "output_type": "stream",
     "text": [
      "Enter A Second Number : \n"
     ]
    },
    {
     "name": "stdin",
     "output_type": "stream",
     "text": [
      "None 20\n"
     ]
    },
    {
     "name": "stdout",
     "output_type": "stream",
     "text": [
      "Enter A Third Number : \n"
     ]
    },
    {
     "name": "stdin",
     "output_type": "stream",
     "text": [
      "None 30\n"
     ]
    },
    {
     "name": "stdout",
     "output_type": "stream",
     "text": [
      "Enter A Four Number : \n"
     ]
    },
    {
     "name": "stdin",
     "output_type": "stream",
     "text": [
      "None 40\n"
     ]
    },
    {
     "name": "stdout",
     "output_type": "stream",
     "text": [
      "Enter A Five Number : \n"
     ]
    },
    {
     "name": "stdin",
     "output_type": "stream",
     "text": [
      "None 50\n"
     ]
    },
    {
     "name": "stdout",
     "output_type": "stream",
     "text": [
      "Fail\n"
     ]
    }
   ],
   "source": [
    "a=int(input((print(\"Enter A First Number : \"))))\n",
    "b=int(input((print(\"Enter A Second Number : \"))))\n",
    "c=int(input((print(\"Enter A Third Number : \"))))\n",
    "d=int(input((print(\"Enter A Four Number : \"))))\n",
    "e=int(input((print(\"Enter A Five Number : \"))))\n",
    "\n",
    "percentage = float(a+b+c+d+e)/5\n",
    "\n",
    "if(percentage<35):\n",
    "    print(\"Fail\")\n",
    "elif(percentage>35 and percentage<45):\n",
    "    print(\"Pass\")\n",
    "elif(percentage>45 and percentage<60):\n",
    "    print(\"Second\")\n",
    "elif(percentage>60 and percentage<70):\n",
    "    print(\"First\")\n",
    "elif(percentage>70):\n",
    "    print(\"Distinction\")"
   ]
  },
  {
   "cell_type": "markdown",
   "metadata": {},
   "source": [
    "### 09) Three sides of a triangle are entered through the keyboard, WAP to check whether the triangle is isosceles, equilateral, scalene or right-angled triangle."
   ]
  },
  {
   "cell_type": "code",
   "execution_count": null,
   "metadata": {},
   "outputs": [],
   "source": []
  },
  {
   "cell_type": "markdown",
   "metadata": {},
   "source": [
    "### 10) WAP to find the second largest number among three user input numbers."
   ]
  },
  {
   "cell_type": "code",
   "execution_count": 64,
   "metadata": {},
   "outputs": [
    {
     "name": "stdin",
     "output_type": "stream",
     "text": [
      "Enter A First Number :  10\n",
      "Enter A Second Number :  20\n",
      "Enter A Third Number :  30\n"
     ]
    },
    {
     "name": "stdout",
     "output_type": "stream",
     "text": [
      "20\n"
     ]
    }
   ],
   "source": [
    "a=int(input((\"Enter A First Number : \")))\n",
    "b=int(input((\"Enter A Second Number : \")))\n",
    "c=int(input((\"Enter A Third Number : \")))\n",
    "\n",
    "arr=[a,b,c]\n",
    "arr.sort()\n",
    "print(arr[1])"
   ]
  },
  {
   "cell_type": "markdown",
   "metadata": {},
   "source": [
    "### 11) WAP to calculate electricity bill based on following criteria. Which takes the unit from the user.\n",
    "a. First 1 to 50 units – Rs. 2.60/unit</br>\n",
    "b. Next 50 to 100 units – Rs. 3.25/unit</br>\n",
    "c. Next 100 to 200 units – Rs. 5.26/unit</br>\n",
    "d. above 200 units – Rs. 8.45/unit"
   ]
  },
  {
   "cell_type": "code",
   "execution_count": null,
   "metadata": {},
   "outputs": [],
   "source": [
    "a=int(input((\"Enter A No Of Unit : \")))\n",
    "\n",
    "if(a"
   ]
  }
 ],
 "metadata": {
  "kernelspec": {
   "display_name": "Python 3 (ipykernel)",
   "language": "python",
   "name": "python3"
  },
  "language_info": {
   "codemirror_mode": {
    "name": "ipython",
    "version": 3
   },
   "file_extension": ".py",
   "mimetype": "text/x-python",
   "name": "python",
   "nbconvert_exporter": "python",
   "pygments_lexer": "ipython3",
   "version": "3.12.7"
  }
 },
 "nbformat": 4,
 "nbformat_minor": 4
}
